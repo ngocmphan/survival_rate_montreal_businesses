{
 "cells": [
  {
   "cell_type": "markdown",
   "id": "aaa540c6",
   "metadata": {},
   "source": [
    "# Survival rate Montreal businesses"
   ]
  },
  {
   "cell_type": "markdown",
   "id": "2ef465a3",
   "metadata": {},
   "source": [
    "## Import libraries"
   ]
  },
  {
   "cell_type": "code",
   "execution_count": 155,
   "id": "8e3e219d",
   "metadata": {},
   "outputs": [],
   "source": [
    "import pandas as pd\n",
    "import matplotlib.pyplot as plt\n",
    "import seaborn as sns\n",
    "from datetime import datetime"
   ]
  },
  {
   "cell_type": "markdown",
   "id": "7acb2dee",
   "metadata": {},
   "source": [
    "## Data Import"
   ]
  },
  {
   "cell_type": "code",
   "execution_count": 156,
   "id": "e9c2269e",
   "metadata": {},
   "outputs": [],
   "source": [
    "df = pd.read_csv('informe_les_commercants.csv')"
   ]
  },
  {
   "cell_type": "code",
   "execution_count": 157,
   "id": "9de9a29f",
   "metadata": {},
   "outputs": [
    {
     "data": {
      "text/html": [
       "<div>\n",
       "<style scoped>\n",
       "    .dataframe tbody tr th:only-of-type {\n",
       "        vertical-align: middle;\n",
       "    }\n",
       "\n",
       "    .dataframe tbody tr th {\n",
       "        vertical-align: top;\n",
       "    }\n",
       "\n",
       "    .dataframe thead th {\n",
       "        text-align: right;\n",
       "    }\n",
       "</style>\n",
       "<table border=\"1\" class=\"dataframe\">\n",
       "  <thead>\n",
       "    <tr style=\"text-align: right;\">\n",
       "      <th></th>\n",
       "      <th>ID Réponse</th>\n",
       "      <th>Date</th>\n",
       "      <th>Phase</th>\n",
       "      <th>Type de territoire</th>\n",
       "      <th>Arrondissement / Ville liée</th>\n",
       "      <th>Statut du commerce</th>\n",
       "      <th>Enjeux: Soutien financier?</th>\n",
       "      <th>Enjeux: Maintien des opérations?</th>\n",
       "      <th>Enjeux: Fiscalité (taxes et impôts)?</th>\n",
       "      <th>Enjeux: Ressources humaines?</th>\n",
       "      <th>...</th>\n",
       "      <th>Présence sur LinkedIn?</th>\n",
       "      <th>Faites-vous de la vente en ligne?</th>\n",
       "      <th>Canal de vente en ligne</th>\n",
       "      <th>Connaissez-vous le service de livraison urbaine?</th>\n",
       "      <th>Êtes-vous intéressé par le service de livraison urbaine?</th>\n",
       "      <th>Intérêt pour le programme d'accompagnement pour le virage numérique des entreprises?</th>\n",
       "      <th>Offrez-vous un service de livraison?</th>\n",
       "      <th>Êtes-vous satisfait de votre service de livraison actuel?</th>\n",
       "      <th>Seriez-vous intéressé par le service de livraison urbain (à vélo) mise en place par la Ville de Montréal et ses partenaires si vous si aviez accès?</th>\n",
       "      <th>Est-ce que l'information que nous vous avons donnée vous a été utile?</th>\n",
       "    </tr>\n",
       "  </thead>\n",
       "  <tbody>\n",
       "    <tr>\n",
       "      <th>0</th>\n",
       "      <td>1</td>\n",
       "      <td>2020-05-12</td>\n",
       "      <td>1</td>\n",
       "      <td>Arrondissement</td>\n",
       "      <td>Le Plateau-Mont-Royal</td>\n",
       "      <td>Ouvert</td>\n",
       "      <td>NaN</td>\n",
       "      <td>Oui</td>\n",
       "      <td>NaN</td>\n",
       "      <td>Oui</td>\n",
       "      <td>...</td>\n",
       "      <td>NaN</td>\n",
       "      <td>Non</td>\n",
       "      <td>Pas de vente en ligne</td>\n",
       "      <td>Sans réponse</td>\n",
       "      <td>Sans réponse</td>\n",
       "      <td>Non, je n'ai pas d'intérêt à faire un virage n...</td>\n",
       "      <td>Question non posée lors de l'appel</td>\n",
       "      <td>Question non posée lors de l'appel</td>\n",
       "      <td>Question non posée lors de l'appel</td>\n",
       "      <td>Non</td>\n",
       "    </tr>\n",
       "    <tr>\n",
       "      <th>1</th>\n",
       "      <td>2</td>\n",
       "      <td>2020-05-12</td>\n",
       "      <td>1</td>\n",
       "      <td>Arrondissement</td>\n",
       "      <td>Outremont</td>\n",
       "      <td>Partiellement ouvert</td>\n",
       "      <td>Oui</td>\n",
       "      <td>NaN</td>\n",
       "      <td>NaN</td>\n",
       "      <td>NaN</td>\n",
       "      <td>...</td>\n",
       "      <td>NaN</td>\n",
       "      <td>Non</td>\n",
       "      <td>Pas de vente en ligne</td>\n",
       "      <td>Non</td>\n",
       "      <td>Oui</td>\n",
       "      <td>Non, je n'ai pas d'intérêt à faire un virage n...</td>\n",
       "      <td>Question non posée lors de l'appel</td>\n",
       "      <td>Question non posée lors de l'appel</td>\n",
       "      <td>Question non posée lors de l'appel</td>\n",
       "      <td>Oui</td>\n",
       "    </tr>\n",
       "    <tr>\n",
       "      <th>2</th>\n",
       "      <td>3</td>\n",
       "      <td>2020-05-12</td>\n",
       "      <td>1</td>\n",
       "      <td>Arrondissement</td>\n",
       "      <td>Le Plateau-Mont-Royal</td>\n",
       "      <td>Ouvert</td>\n",
       "      <td>NaN</td>\n",
       "      <td>NaN</td>\n",
       "      <td>NaN</td>\n",
       "      <td>Oui</td>\n",
       "      <td>...</td>\n",
       "      <td>NaN</td>\n",
       "      <td>Oui</td>\n",
       "      <td>Site transactionnel</td>\n",
       "      <td>Oui</td>\n",
       "      <td>Non</td>\n",
       "      <td>Non, j'ai déjà ce qu'il me faut pour faire un ...</td>\n",
       "      <td>Question non posée lors de l'appel</td>\n",
       "      <td>Question non posée lors de l'appel</td>\n",
       "      <td>Question non posée lors de l'appel</td>\n",
       "      <td>Oui</td>\n",
       "    </tr>\n",
       "    <tr>\n",
       "      <th>3</th>\n",
       "      <td>4</td>\n",
       "      <td>2020-05-12</td>\n",
       "      <td>1</td>\n",
       "      <td>Arrondissement</td>\n",
       "      <td>Le Plateau-Mont-Royal</td>\n",
       "      <td>Fermé</td>\n",
       "      <td>Oui</td>\n",
       "      <td>NaN</td>\n",
       "      <td>NaN</td>\n",
       "      <td>NaN</td>\n",
       "      <td>...</td>\n",
       "      <td>NaN</td>\n",
       "      <td>Non</td>\n",
       "      <td>Pas de vente en ligne</td>\n",
       "      <td>Oui</td>\n",
       "      <td>Non</td>\n",
       "      <td>Je ne sais pas</td>\n",
       "      <td>Question non posée lors de l'appel</td>\n",
       "      <td>Question non posée lors de l'appel</td>\n",
       "      <td>Question non posée lors de l'appel</td>\n",
       "      <td>Oui</td>\n",
       "    </tr>\n",
       "    <tr>\n",
       "      <th>4</th>\n",
       "      <td>5</td>\n",
       "      <td>2020-05-12</td>\n",
       "      <td>1</td>\n",
       "      <td>Arrondissement</td>\n",
       "      <td>Le Plateau-Mont-Royal</td>\n",
       "      <td>Statut inconnu</td>\n",
       "      <td>Oui</td>\n",
       "      <td>Oui</td>\n",
       "      <td>NaN</td>\n",
       "      <td>NaN</td>\n",
       "      <td>...</td>\n",
       "      <td>NaN</td>\n",
       "      <td>Oui</td>\n",
       "      <td>Site transactionnel</td>\n",
       "      <td>Non</td>\n",
       "      <td>Oui</td>\n",
       "      <td>Oui</td>\n",
       "      <td>Question non posée lors de l'appel</td>\n",
       "      <td>Question non posée lors de l'appel</td>\n",
       "      <td>Question non posée lors de l'appel</td>\n",
       "      <td>Oui</td>\n",
       "    </tr>\n",
       "  </tbody>\n",
       "</table>\n",
       "<p>5 rows × 32 columns</p>\n",
       "</div>"
      ],
      "text/plain": [
       "   ID Réponse        Date  Phase Type de territoire  \\\n",
       "0           1  2020-05-12      1     Arrondissement   \n",
       "1           2  2020-05-12      1     Arrondissement   \n",
       "2           3  2020-05-12      1     Arrondissement   \n",
       "3           4  2020-05-12      1     Arrondissement   \n",
       "4           5  2020-05-12      1     Arrondissement   \n",
       "\n",
       "  Arrondissement / Ville liée    Statut du commerce  \\\n",
       "0       Le Plateau-Mont-Royal                Ouvert   \n",
       "1                   Outremont  Partiellement ouvert   \n",
       "2       Le Plateau-Mont-Royal                Ouvert   \n",
       "3       Le Plateau-Mont-Royal                 Fermé   \n",
       "4       Le Plateau-Mont-Royal        Statut inconnu   \n",
       "\n",
       "  Enjeux: Soutien financier? Enjeux: Maintien des opérations?  \\\n",
       "0                        NaN                              Oui   \n",
       "1                        Oui                              NaN   \n",
       "2                        NaN                              NaN   \n",
       "3                        Oui                              NaN   \n",
       "4                        Oui                              Oui   \n",
       "\n",
       "  Enjeux: Fiscalité (taxes et impôts)? Enjeux: Ressources humaines?  ...  \\\n",
       "0                                  NaN                          Oui  ...   \n",
       "1                                  NaN                          NaN  ...   \n",
       "2                                  NaN                          Oui  ...   \n",
       "3                                  NaN                          NaN  ...   \n",
       "4                                  NaN                          NaN  ...   \n",
       "\n",
       "  Présence sur LinkedIn? Faites-vous de la vente en ligne?  \\\n",
       "0                    NaN                               Non   \n",
       "1                    NaN                               Non   \n",
       "2                    NaN                               Oui   \n",
       "3                    NaN                               Non   \n",
       "4                    NaN                               Oui   \n",
       "\n",
       "  Canal de vente en ligne Connaissez-vous le service de livraison urbaine?  \\\n",
       "0   Pas de vente en ligne                                     Sans réponse   \n",
       "1   Pas de vente en ligne                                              Non   \n",
       "2     Site transactionnel                                              Oui   \n",
       "3   Pas de vente en ligne                                              Oui   \n",
       "4     Site transactionnel                                              Non   \n",
       "\n",
       "  Êtes-vous intéressé par le service de livraison urbaine?  \\\n",
       "0                                       Sans réponse         \n",
       "1                                                Oui         \n",
       "2                                                Non         \n",
       "3                                                Non         \n",
       "4                                                Oui         \n",
       "\n",
       "  Intérêt pour le programme d'accompagnement pour le virage numérique des entreprises?  \\\n",
       "0  Non, je n'ai pas d'intérêt à faire un virage n...                                     \n",
       "1  Non, je n'ai pas d'intérêt à faire un virage n...                                     \n",
       "2  Non, j'ai déjà ce qu'il me faut pour faire un ...                                     \n",
       "3                                     Je ne sais pas                                     \n",
       "4                                                Oui                                     \n",
       "\n",
       "  Offrez-vous un service de livraison?  \\\n",
       "0   Question non posée lors de l'appel   \n",
       "1   Question non posée lors de l'appel   \n",
       "2   Question non posée lors de l'appel   \n",
       "3   Question non posée lors de l'appel   \n",
       "4   Question non posée lors de l'appel   \n",
       "\n",
       "  Êtes-vous satisfait de votre service de livraison actuel?  \\\n",
       "0                 Question non posée lors de l'appel          \n",
       "1                 Question non posée lors de l'appel          \n",
       "2                 Question non posée lors de l'appel          \n",
       "3                 Question non posée lors de l'appel          \n",
       "4                 Question non posée lors de l'appel          \n",
       "\n",
       "  Seriez-vous intéressé par le service de livraison urbain (à vélo) mise en place par la Ville de Montréal et ses partenaires si vous si aviez accès?  \\\n",
       "0                 Question non posée lors de l'appel                                                                                                    \n",
       "1                 Question non posée lors de l'appel                                                                                                    \n",
       "2                 Question non posée lors de l'appel                                                                                                    \n",
       "3                 Question non posée lors de l'appel                                                                                                    \n",
       "4                 Question non posée lors de l'appel                                                                                                    \n",
       "\n",
       "  Est-ce que l'information que nous vous avons donnée vous a été utile?  \n",
       "0                                                Non                     \n",
       "1                                                Oui                     \n",
       "2                                                Oui                     \n",
       "3                                                Oui                     \n",
       "4                                                Oui                     \n",
       "\n",
       "[5 rows x 32 columns]"
      ]
     },
     "execution_count": 157,
     "metadata": {},
     "output_type": "execute_result"
    }
   ],
   "source": [
    "df.head(5)"
   ]
  },
  {
   "cell_type": "code",
   "execution_count": 158,
   "id": "8fd5a5c1",
   "metadata": {},
   "outputs": [
    {
     "name": "stdout",
     "output_type": "stream",
     "text": [
      "<class 'pandas.core.frame.DataFrame'>\n",
      "RangeIndex: 1896 entries, 0 to 1895\n",
      "Data columns (total 32 columns):\n",
      " #   Column                                                                                                                                               Non-Null Count  Dtype \n",
      "---  ------                                                                                                                                               --------------  ----- \n",
      " 0   ID Réponse                                                                                                                                           1896 non-null   int64 \n",
      " 1   Date                                                                                                                                                 1896 non-null   object\n",
      " 2   Phase                                                                                                                                                1896 non-null   int64 \n",
      " 3   Type de territoire                                                                                                                                   1345 non-null   object\n",
      " 4   Arrondissement / Ville liée                                                                                                                          1347 non-null   object\n",
      " 5   Statut du commerce                                                                                                                                   1896 non-null   object\n",
      " 6   Enjeux: Soutien financier?                                                                                                                           928 non-null    object\n",
      " 7   Enjeux: Maintien des opérations?                                                                                                                     167 non-null    object\n",
      " 8   Enjeux: Fiscalité (taxes et impôts)?                                                                                                                 89 non-null     object\n",
      " 9   Enjeux: Ressources humaines?                                                                                                                         149 non-null    object\n",
      " 10  Enjeux: Réglementation?                                                                                                                              82 non-null     object\n",
      " 11  Enjeux: Marketing?                                                                                                                                   266 non-null    object\n",
      " 12  Enjeux: Santé et sécurité?                                                                                                                           236 non-null    object\n",
      " 13  Enjeux: Recherche d'équipement sanitaire?                                                                                                            158 non-null    object\n",
      " 14  Enjeux: Aménagement de l'espace?                                                                                                                     154 non-null    object\n",
      " 15  Enjeux: Permis pour les terrasses extérieures?                                                                                                       13 non-null     object\n",
      " 16  Enjeux: Autre?                                                                                                                                       189 non-null    object\n",
      " 17  Intérêt pour le programme d'aide d'urgence?                                                                                                          1896 non-null   object\n",
      " 18  Présence sur les médias sociaux?                                                                                                                     1896 non-null   object\n",
      " 19  Présence sur Facebook?                                                                                                                               779 non-null    object\n",
      " 20  Présence sur Twitter?                                                                                                                                50 non-null     object\n",
      " 21  Présence sur Instagram?                                                                                                                              356 non-null    object\n",
      " 22  Présence sur LinkedIn?                                                                                                                               27 non-null     object\n",
      " 23  Faites-vous de la vente en ligne?                                                                                                                    1896 non-null   object\n",
      " 24  Canal de vente en ligne                                                                                                                              1896 non-null   object\n",
      " 25  Connaissez-vous le service de livraison urbaine?                                                                                                     1896 non-null   object\n",
      " 26  Êtes-vous intéressé par le service de livraison urbaine?                                                                                             1896 non-null   object\n",
      " 27  Intérêt pour le programme d'accompagnement pour le virage numérique des entreprises?                                                                 1896 non-null   object\n",
      " 28  Offrez-vous un service de livraison?                                                                                                                 1896 non-null   object\n",
      " 29  Êtes-vous satisfait de votre service de livraison actuel?                                                                                            1896 non-null   object\n",
      " 30  Seriez-vous intéressé par le service de livraison urbain (à vélo) mise en place par la Ville de Montréal et ses partenaires si vous si aviez accès?  1896 non-null   object\n",
      " 31  Est-ce que l'information que nous vous avons donnée vous a été utile?                                                                                1896 non-null   object\n",
      "dtypes: int64(2), object(30)\n",
      "memory usage: 474.1+ KB\n"
     ]
    }
   ],
   "source": [
    "df.info(verbose=True)"
   ]
  },
  {
   "cell_type": "markdown",
   "id": "27ddc213",
   "metadata": {},
   "source": [
    "## Data Cleaning"
   ]
  },
  {
   "cell_type": "markdown",
   "id": "12d5ed15",
   "metadata": {},
   "source": [
    "### Rename columns & variables selection"
   ]
  },
  {
   "cell_type": "code",
   "execution_count": 159,
   "id": "a439f858",
   "metadata": {},
   "outputs": [],
   "source": [
    "# Rename columns\n",
    "rename = {\"Arrondissement / Ville liée\": \"Location\", \"Statut du commerce\": \"Operation_status\", \n",
    "         \"Enjeux: Soutien financier?\": \"Challenge_financial_support\", \n",
    "         \"Enjeux: Maintien des opérations?\": \"Challenge_maintain_ops\", \n",
    "         \"Enjeux: Fiscalité (taxes et impôts)?\": \"Challenge_taxes\", \n",
    "         \"Enjeux: Ressources humaines?\": \"Challenge_HR\", \n",
    "         \"Enjeux: Réglementation?\": \"Challenge_regulation\", \n",
    "         \"Enjeux: Marketing?\": \"Challenge_marketing\", \n",
    "         \"Enjeux: Santé et sécurité?\": \"Challenge_security_health\", \n",
    "         \"Enjeux: Recherche d'équipement sanitaire?\": \"Challenge_sanitary_equip\", \n",
    "         \"Enjeux: Aménagement de l'espace?\": \"Challenge_space_management\", \n",
    "         \"Enjeux: Permis pour les terrasses extérieures?\": \"Challenge_terasse_permit\", \n",
    "         \"Enjeux: Autre?\": \"Other_challenges\", \n",
    "         \"Présence sur les médias sociaux?\": \"Social_media_pressence\",\n",
    "          \"Présence sur Facebook?\" : \"Facebook\", \n",
    "          \"Présence sur Twitter?\": \"Twitter\", \n",
    "          \"Présence sur Instagram?\": \"Instagram\", \n",
    "          \"Présence sur LinkedIn?\": \"Linkedin\", \n",
    "          \"Faites-vous de la vente en ligne?\": \"Online_businesses\", \n",
    "          \"Canal de vente en ligne\": \"Channel_online_business\", \n",
    "          \"Offrez-vous un service de livraison?\": \"Delivery_service_offer\", \n",
    "          \"Êtes-vous satisfait de votre service de livraison actuel?\": \"Satisfaction_current_delivery_service\"\n",
    "         }\n",
    "\n",
    "df = df.rename(columns = rename)"
   ]
  },
  {
   "cell_type": "code",
   "execution_count": 160,
   "id": "0765f2ed",
   "metadata": {},
   "outputs": [
    {
     "data": {
      "text/plain": [
       "Index(['ID Réponse', 'Date', 'Phase', 'Type de territoire', 'Location',\n",
       "       'Operation_status', 'Challenge_financial_support',\n",
       "       'Challenge_maintain_ops', 'Challenge_taxes', 'Challenge_HR',\n",
       "       'Challenge_regulation', 'Challenge_marketing',\n",
       "       'Challenge_security_health', 'Challenge_sanitary_equip',\n",
       "       'Challenge_space_management', 'Challenge_terasse_permit',\n",
       "       'Other_challenges', 'Intérêt pour le programme d'aide d'urgence?',\n",
       "       'Social_media_pressence', 'Facebook', 'Twitter', 'Instagram',\n",
       "       'Linkedin', 'Online_businesses', 'Channel_online_business',\n",
       "       'Connaissez-vous le service de livraison urbaine?',\n",
       "       'Êtes-vous intéressé par le service de livraison urbaine?',\n",
       "       'Intérêt pour le programme d'accompagnement pour le virage numérique des entreprises?',\n",
       "       'Delivery_service_offer', 'Satisfaction_current_delivery_service',\n",
       "       'Seriez-vous intéressé par le service de livraison urbain (à vélo) mise en place par la Ville de Montréal et ses partenaires si vous si aviez accès?',\n",
       "       'Est-ce que l'information que nous vous avons donnée vous a été utile?'],\n",
       "      dtype='object')"
      ]
     },
     "execution_count": 160,
     "metadata": {},
     "output_type": "execute_result"
    }
   ],
   "source": [
    "df.columns"
   ]
  },
  {
   "cell_type": "code",
   "execution_count": 161,
   "id": "09e9424a",
   "metadata": {},
   "outputs": [],
   "source": [
    "# Preliminary variables selection: Remove variables not relevant to the analysis\n",
    "drop_columns = ['Type de territoire', \"Intérêt pour le programme d'aide d'urgence?\", \n",
    "               'Connaissez-vous le service de livraison urbaine?', 'Êtes-vous intéressé par le service de livraison urbaine?',\n",
    "               \"Intérêt pour le programme d'accompagnement pour le virage numérique des entreprises?\", \n",
    "               'Seriez-vous intéressé par le service de livraison urbain (à vélo) mise en place par la Ville de Montréal et ses partenaires si vous si aviez accès?', \n",
    "               \"Est-ce que l'information que nous vous avons donnée vous a été utile?\"]"
   ]
  },
  {
   "cell_type": "code",
   "execution_count": 162,
   "id": "8d2820dd",
   "metadata": {},
   "outputs": [],
   "source": [
    "df = df.drop(drop_columns, axis=1)"
   ]
  },
  {
   "cell_type": "code",
   "execution_count": 163,
   "id": "44ebf0e0",
   "metadata": {},
   "outputs": [
    {
     "name": "stdout",
     "output_type": "stream",
     "text": [
      "<class 'pandas.core.frame.DataFrame'>\n",
      "RangeIndex: 1896 entries, 0 to 1895\n",
      "Data columns (total 25 columns):\n",
      " #   Column                                 Non-Null Count  Dtype \n",
      "---  ------                                 --------------  ----- \n",
      " 0   ID Réponse                             1896 non-null   int64 \n",
      " 1   Date                                   1896 non-null   object\n",
      " 2   Phase                                  1896 non-null   int64 \n",
      " 3   Location                               1347 non-null   object\n",
      " 4   Operation_status                       1896 non-null   object\n",
      " 5   Challenge_financial_support            928 non-null    object\n",
      " 6   Challenge_maintain_ops                 167 non-null    object\n",
      " 7   Challenge_taxes                        89 non-null     object\n",
      " 8   Challenge_HR                           149 non-null    object\n",
      " 9   Challenge_regulation                   82 non-null     object\n",
      " 10  Challenge_marketing                    266 non-null    object\n",
      " 11  Challenge_security_health              236 non-null    object\n",
      " 12  Challenge_sanitary_equip               158 non-null    object\n",
      " 13  Challenge_space_management             154 non-null    object\n",
      " 14  Challenge_terasse_permit               13 non-null     object\n",
      " 15  Other_challenges                       189 non-null    object\n",
      " 16  Social_media_pressence                 1896 non-null   object\n",
      " 17  Facebook                               779 non-null    object\n",
      " 18  Twitter                                50 non-null     object\n",
      " 19  Instagram                              356 non-null    object\n",
      " 20  Linkedin                               27 non-null     object\n",
      " 21  Online_businesses                      1896 non-null   object\n",
      " 22  Channel_online_business                1896 non-null   object\n",
      " 23  Delivery_service_offer                 1896 non-null   object\n",
      " 24  Satisfaction_current_delivery_service  1896 non-null   object\n",
      "dtypes: int64(2), object(23)\n",
      "memory usage: 370.4+ KB\n"
     ]
    }
   ],
   "source": [
    "df.info()"
   ]
  },
  {
   "cell_type": "markdown",
   "id": "02aeb32a",
   "metadata": {},
   "source": [
    "### Date column transformation"
   ]
  },
  {
   "cell_type": "code",
   "execution_count": 164,
   "id": "d418001b",
   "metadata": {},
   "outputs": [],
   "source": [
    "def string_to_date(row):\n",
    "    row['Date'] = datetime.strptime(row['Date'], '%Y-%m-%d')\n",
    "    return row\n",
    "\n",
    "df = df.apply(string_to_date, axis=1)"
   ]
  },
  {
   "cell_type": "markdown",
   "id": "0828233c",
   "metadata": {},
   "source": [
    "### Missing data"
   ]
  },
  {
   "cell_type": "code",
   "execution_count": 165,
   "id": "670e5475",
   "metadata": {
    "scrolled": true
   },
   "outputs": [
    {
     "name": "stdout",
     "output_type": "stream",
     "text": [
      "Location\n",
      "['Le Plateau-Mont-Royal' 'Outremont' 'Côte-des-Neiges-Notre-Dame-de-Grâce'\n",
      " 'Ahuntsic-Cartierville' 'Rosemont-La Petite-Patrie'\n",
      " 'Villeray-Saint-Michel-Parc-Extension' 'Verdun' nan 'Le Sud-Ouest'\n",
      " 'Westmount' 'Mont-Royal' 'Saint-Laurent' 'Montréal-Nord' 'Saint-Léonard'\n",
      " 'Rivière-des-Prairies-Pointe-aux-Trembles' 'Ville-Marie'\n",
      " 'Mercier-Hochelaga-Maisonneuve' 'Kirkland' 'Pierrefonds-Roxboro'\n",
      " 'LaSalle' 'Dollard-des-Ormeaux' 'Anjou' 'Pointe-Claire' 'Montréal-Ouest'\n",
      " 'Beaconsfield' 'Dorval' \"L'Île-Bizard-Sainte-Geneviève\" 'Lachine'\n",
      " 'Île-Bizard-Sainte-Geneviève']\n",
      "Challenge_financial_support\n",
      "[nan 'Oui']\n",
      "Challenge_maintain_ops\n",
      "['Oui' nan]\n",
      "Challenge_taxes\n",
      "[nan 'Oui']\n",
      "Challenge_HR\n",
      "['Oui' nan]\n",
      "Challenge_regulation\n",
      "[nan 'Oui']\n",
      "Challenge_marketing\n",
      "[nan 'Oui']\n",
      "Challenge_security_health\n",
      "[nan 'Oui']\n",
      "Challenge_sanitary_equip\n",
      "[nan 'Oui']\n",
      "Challenge_space_management\n",
      "[nan 'Oui']\n",
      "Challenge_terasse_permit\n",
      "[nan 'Oui']\n",
      "Other_challenges\n",
      "['Oui' nan]\n",
      "Facebook\n",
      "[nan 'Oui']\n",
      "Twitter\n",
      "[nan 'Oui']\n",
      "Instagram\n",
      "[nan 'Oui']\n",
      "Linkedin\n",
      "[nan 'Oui']\n"
     ]
    }
   ],
   "source": [
    "for i in df.columns: \n",
    "    if df[i].count() < 1896:\n",
    "        print(i)\n",
    "        print(df[i].unique())"
   ]
  },
  {
   "cell_type": "markdown",
   "id": "e842a1bb",
   "metadata": {},
   "source": [
    "Noted that Location has 28% missing values. In addition, the missing values in other columns marked as 'nan' are considered \"No\" answer as the unique values of the columns is \"Oui\" (Yes) and 'nan'. \n",
    "\n",
    "Proposed solution: \n",
    "- Location is a critical variable in the analysis. Retain the dataset with missing values, and retain the data set with missing values in the Location variable removed for analysis. \n",
    "- All other columns with 'nan' values will be regarded as 'No' in answer."
   ]
  },
  {
   "cell_type": "code",
   "execution_count": 166,
   "id": "ce63de17",
   "metadata": {},
   "outputs": [],
   "source": [
    "nan_columns=['Challenge_financial_support', 'Challenge_maintain_ops', \n",
    "                        'Challenge_taxes', 'Challenge_HR', 'Challenge_regulation', \n",
    "                        'Challenge_marketing', 'Challenge_security_health', \n",
    "                        'Challenge_sanitary_equip', 'Challenge_space_management',\n",
    "                        'Challenge_terasse_permit', 'Other_challenges','Facebook', 'Twitter',\n",
    "                        'Instagram', 'Linkedin']\n",
    "nan_dict = {i: 'No' for i in nan_columns}\n",
    "df = df.fillna(value=nan_dict)"
   ]
  },
  {
   "cell_type": "code",
   "execution_count": 167,
   "id": "c621d53e",
   "metadata": {},
   "outputs": [],
   "source": [
    "df_with_loc = df.copy()\n",
    "df_drop_loc = df.copy().drop(columns=['Location'])"
   ]
  },
  {
   "cell_type": "markdown",
   "id": "c44597e7",
   "metadata": {},
   "source": [
    "## Data Exploration"
   ]
  },
  {
   "cell_type": "code",
   "execution_count": 168,
   "id": "fe6c7b6a",
   "metadata": {},
   "outputs": [
    {
     "name": "stdout",
     "output_type": "stream",
     "text": [
      "<class 'pandas.core.frame.DataFrame'>\n",
      "RangeIndex: 1896 entries, 0 to 1895\n",
      "Data columns (total 25 columns):\n",
      " #   Column                                 Non-Null Count  Dtype         \n",
      "---  ------                                 --------------  -----         \n",
      " 0   ID Réponse                             1896 non-null   int64         \n",
      " 1   Date                                   1896 non-null   datetime64[ns]\n",
      " 2   Phase                                  1896 non-null   int64         \n",
      " 3   Location                               1347 non-null   object        \n",
      " 4   Operation_status                       1896 non-null   object        \n",
      " 5   Challenge_financial_support            1896 non-null   object        \n",
      " 6   Challenge_maintain_ops                 1896 non-null   object        \n",
      " 7   Challenge_taxes                        1896 non-null   object        \n",
      " 8   Challenge_HR                           1896 non-null   object        \n",
      " 9   Challenge_regulation                   1896 non-null   object        \n",
      " 10  Challenge_marketing                    1896 non-null   object        \n",
      " 11  Challenge_security_health              1896 non-null   object        \n",
      " 12  Challenge_sanitary_equip               1896 non-null   object        \n",
      " 13  Challenge_space_management             1896 non-null   object        \n",
      " 14  Challenge_terasse_permit               1896 non-null   object        \n",
      " 15  Other_challenges                       1896 non-null   object        \n",
      " 16  Social_media_pressence                 1896 non-null   object        \n",
      " 17  Facebook                               1896 non-null   object        \n",
      " 18  Twitter                                1896 non-null   object        \n",
      " 19  Instagram                              1896 non-null   object        \n",
      " 20  Linkedin                               1896 non-null   object        \n",
      " 21  Online_businesses                      1896 non-null   object        \n",
      " 22  Channel_online_business                1896 non-null   object        \n",
      " 23  Delivery_service_offer                 1896 non-null   object        \n",
      " 24  Satisfaction_current_delivery_service  1896 non-null   object        \n",
      "dtypes: datetime64[ns](1), int64(2), object(22)\n",
      "memory usage: 370.4+ KB\n"
     ]
    }
   ],
   "source": [
    "df_with_loc.info()"
   ]
  },
  {
   "cell_type": "code",
   "execution_count": 169,
   "id": "893ae664",
   "metadata": {},
   "outputs": [
    {
     "data": {
      "text/plain": [
       "<Axes: xlabel='Phase', ylabel='Count'>"
      ]
     },
     "execution_count": 169,
     "metadata": {},
     "output_type": "execute_result"
    },
    {
     "data": {
      "image/png": "[encoded data removed]",
      "text/plain": [
       "<Figure size 640x480 with 1 Axes>"
      ]
     },
     "metadata": {},
     "output_type": "display_data"
    }
   ],
   "source": [
    "sns.histplot(df_with_loc, x='Phase', hue='Operation_status', multiple='stack')"
   ]
  },
  {
   "cell_type": "code",
   "execution_count": null,
   "id": "a9b96a45",
   "metadata": {},
   "outputs": [],
   "source": []
  }
 ],
 "metadata": {
  "kernelspec": {
   "display_name": "Python 3 (ipykernel)",
   "language": "python",
   "name": "python3"
  },
  "language_info": {
   "codemirror_mode": {
    "name": "ipython",
    "version": 3
   },
   "file_extension": ".py",
   "mimetype": "text/x-python",
   "name": "python",
   "nbconvert_exporter": "python",
   "pygments_lexer": "ipython3",
   "version": "3.11.3"
  }
 },
 "nbformat": 4,
 "nbformat_minor": 5
}
